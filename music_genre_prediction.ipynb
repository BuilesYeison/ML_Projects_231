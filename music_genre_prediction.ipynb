{
  "nbformat": 4,
  "nbformat_minor": 0,
  "metadata": {
    "colab": {
      "provenance": [],
      "gpuType": "T4"
    },
    "kernelspec": {
      "name": "python3",
      "display_name": "Python 3"
    },
    "language_info": {
      "name": "python"
    },
    "accelerator": "GPU",
    "gpuClass": "standard"
  },
  "cells": [
    {
      "cell_type": "code",
      "execution_count": 1,
      "metadata": {
        "colab": {
          "base_uri": "https://localhost:8080/"
        },
        "id": "OMsciraAJU00",
        "outputId": "d65fd0c3-77ab-44a8-86c5-2b5e46943881"
      },
      "outputs": [
        {
          "output_type": "stream",
          "name": "stdout",
          "text": [
            "Done!\n"
          ]
        }
      ],
      "source": [
        "#@markdown --------------- \n",
        "#@markdown ## **⚠️❗ Ejecute esta celda para descargar Shoes dataset❗⚠️** \n",
        "#@markdown ### Esta celda creará la carpeta ```/content/genres_original```\n",
        "\n",
        "!pip install -qq gdown\n",
        "!gdown -qq \"https://drive.google.com/u/1/uc?id=1o8RYJtI7FCdyPqbglgXf17bxajy8_CD1&export=download\" -O /genres_original_short.zip\n",
        "!mkdir /content/genres_original/\n",
        "!unzip -qq /genres_original_short.zip -d /content/genres_original\n",
        "!rm -r /genres_original_short.zip\n",
        "print (\"Done!\")\n",
        "#@markdown ---------------"
      ]
    },
    {
      "cell_type": "code",
      "source": [
        "import os\n",
        "import librosa\n",
        "import math\n",
        "import json \n",
        "import matplotlib.pyplot as plt\n",
        "import numpy as np\n",
        "\n",
        "from sklearn.model_selection import train_test_split\n",
        "from tensorflow.keras import Sequential\n",
        "from tensorflow.keras.layers import *\n",
        "from tensorflow.keras import optimizers\n",
        "import tensorflow.keras as keras\n",
        "\n",
        "from tqdm import tqdm\n",
        "import time"
      ],
      "metadata": {
        "id": "aBs021gvEd-G"
      },
      "execution_count": 2,
      "outputs": []
    },
    {
      "cell_type": "code",
      "source": [
        "dataset_path = \"/content/genres_original\"\n",
        "json_path = r\"data.json\"\n",
        "SAMPLE_RATE = 22050\n",
        "DURATION = 30\n",
        "SAMPLES_PER_TRACK = SAMPLE_RATE * DURATION"
      ],
      "metadata": {
        "id": "Py8I40aZEgWm"
      },
      "execution_count": 3,
      "outputs": []
    },
    {
      "cell_type": "code",
      "source": [
        "# Parámetros de configuración\n",
        "n_mfcc = 13\n",
        "n_fft = 2048\n",
        "hop_length = 512\n",
        "num_segments = 10\n",
        "\n",
        "# Data storage dictionary\n",
        "data = {\n",
        "    \"mapping\": [],\n",
        "    \"mfcc\": [],\n",
        "    \"labels\": [],\n",
        "}\n",
        "\n",
        "# Cálculo de variables auxiliares\n",
        "samples_ps = int(SAMPLES_PER_TRACK / num_segments)  # ps = per segment\n",
        "expected_vects_ps = math.ceil(samples_ps / hop_length)\n",
        "\n",
        "# Recorrido de géneros musicales\n",
        "for i, (dirpath, dirnames, filenames) in enumerate(os.walk(dataset_path)):\n",
        "    # Se asegura de no estar en la raíz\n",
        "    if dirpath != dataset_path:\n",
        "        # Guardar la etiqueta semántica\n",
        "        semantic_label = os.path.basename(dirpath)\n",
        "        data[\"mapping\"].append(semantic_label)\n",
        "        print(f\"Processing: {semantic_label}\")\n",
        "\n",
        "        # Procesar archivos para el género específico\n",
        "        for f in tqdm(filenames, ncols=80):\n",
        "            if f == \"jazz.00054.wav\":\n",
        "                # Como librosa solo lee archivos <1Mb\n",
        "                continue\n",
        "            else:\n",
        "                # Cargar el archivo de audio\n",
        "                file_path = os.path.join(dirpath, f)\n",
        "                signal, sr = librosa.load(file_path, sr=SAMPLE_RATE)\n",
        "                for s in range(num_segments):\n",
        "                    start_sample = samples_ps * s\n",
        "                    finish_sample = start_sample + samples_ps\n",
        "\n",
        "                    # Obtener los coeficientes MFCC\n",
        "                    mfcc = librosa.feature.mfcc(y=signal[start_sample:finish_sample],\n",
        "                                                sr=sr,\n",
        "                                                n_mfcc=n_mfcc,\n",
        "                                                hop_length=hop_length,\n",
        "                                                n_fft=n_fft)\n",
        "\n",
        "                    mfcc = mfcc.T\n",
        "\n",
        "                    # Guardar los coeficientes MFCC si tienen la longitud esperada\n",
        "                    if len(mfcc) == expected_vects_ps:\n",
        "                        data[\"mfcc\"].append(mfcc.tolist())\n",
        "                        data[\"labels\"].append(i - 1)\n",
        "\n",
        "# Guardar los datos en formato JSON\n",
        "with open(json_path, \"w\") as f:\n",
        "    json.dump(data, f, indent=4)"
      ],
      "metadata": {
        "id": "ifg_vlfxEm07",
        "colab": {
          "base_uri": "https://localhost:8080/"
        },
        "outputId": "511a7747-ccca-4289-ae50-128681c95c66"
      },
      "execution_count": 21,
      "outputs": [
        {
          "output_type": "stream",
          "name": "stdout",
          "text": [
            "Processing: rock\n"
          ]
        },
        {
          "output_type": "stream",
          "name": "stderr",
          "text": [
            "100%|█████████████████████████████████████████| 100/100 [00:15<00:00,  6.66it/s]\n"
          ]
        },
        {
          "output_type": "stream",
          "name": "stdout",
          "text": [
            "Processing: country\n"
          ]
        },
        {
          "output_type": "stream",
          "name": "stderr",
          "text": [
            "100%|█████████████████████████████████████████| 100/100 [00:13<00:00,  7.37it/s]\n"
          ]
        },
        {
          "output_type": "stream",
          "name": "stdout",
          "text": [
            "Processing: hiphop\n"
          ]
        },
        {
          "output_type": "stream",
          "name": "stderr",
          "text": [
            "100%|█████████████████████████████████████████| 100/100 [00:14<00:00,  7.10it/s]\n"
          ]
        },
        {
          "output_type": "stream",
          "name": "stdout",
          "text": [
            "Processing: jazz\n"
          ]
        },
        {
          "output_type": "stream",
          "name": "stderr",
          "text": [
            "100%|█████████████████████████████████████████| 100/100 [00:13<00:00,  7.32it/s]\n"
          ]
        },
        {
          "output_type": "stream",
          "name": "stdout",
          "text": [
            "Processing: pop\n"
          ]
        },
        {
          "output_type": "stream",
          "name": "stderr",
          "text": [
            "100%|█████████████████████████████████████████| 100/100 [00:13<00:00,  7.37it/s]\n"
          ]
        },
        {
          "output_type": "stream",
          "name": "stdout",
          "text": [
            "Processing: metal\n"
          ]
        },
        {
          "output_type": "stream",
          "name": "stderr",
          "text": [
            "100%|█████████████████████████████████████████| 100/100 [00:14<00:00,  6.95it/s]\n"
          ]
        },
        {
          "output_type": "stream",
          "name": "stdout",
          "text": [
            "Processing: blues\n"
          ]
        },
        {
          "output_type": "stream",
          "name": "stderr",
          "text": [
            "100%|█████████████████████████████████████████| 100/100 [00:14<00:00,  6.94it/s]\n"
          ]
        },
        {
          "output_type": "stream",
          "name": "stdout",
          "text": [
            "Processing: disco\n"
          ]
        },
        {
          "output_type": "stream",
          "name": "stderr",
          "text": [
            "100%|█████████████████████████████████████████| 100/100 [00:13<00:00,  7.21it/s]\n"
          ]
        },
        {
          "output_type": "stream",
          "name": "stdout",
          "text": [
            "Processing: reggae\n"
          ]
        },
        {
          "output_type": "stream",
          "name": "stderr",
          "text": [
            "100%|█████████████████████████████████████████| 100/100 [00:14<00:00,  7.06it/s]\n"
          ]
        },
        {
          "output_type": "stream",
          "name": "stdout",
          "text": [
            "Processing: classical\n"
          ]
        },
        {
          "output_type": "stream",
          "name": "stderr",
          "text": [
            "100%|█████████████████████████████████████████| 100/100 [00:18<00:00,  5.50it/s]\n"
          ]
        }
      ]
    },
    {
      "cell_type": "code",
      "source": [
        "with open(\"data.json\",\"r\") as f:\n",
        "    data = json.load(f)\n",
        "    # Convert list to numpy arrays\n",
        "    X = np.array(data[\"mfcc\"])\n",
        "    y = np.array(data[\"labels\"])\n",
        "      \n",
        "    X_train, X_test, y_train, y_test = train_test_split(X, y, test_size = 0.2)"
      ],
      "metadata": {
        "id": "PuSmHUFap7WX"
      },
      "execution_count": 22,
      "outputs": []
    },
    {
      "cell_type": "code",
      "source": [
        "X_train.shape"
      ],
      "metadata": {
        "colab": {
          "base_uri": "https://localhost:8080/"
        },
        "id": "hwlnd8ih2dF1",
        "outputId": "d716dc44-0be6-49d1-db43-00a752e802eb"
      },
      "execution_count": 23,
      "outputs": [
        {
          "output_type": "execute_result",
          "data": {
            "text/plain": [
              "(7988, 130, 13)"
            ]
          },
          "metadata": {},
          "execution_count": 23
        }
      ]
    },
    {
      "cell_type": "code",
      "source": [
        "model = Sequential()\n",
        "model.add(Conv2D(64, (3, 3), activation = \"relu\", input_shape = (130, 13, 1)))\n",
        "model.add(MaxPool2D((3, 3), strides=(2, 2), padding=\"same\"))\n",
        "model.add(BatchNormalization())\n",
        "\n",
        "model.add(Conv2D(32, (3, 3), activation = \"relu\"))\n",
        "model.add(MaxPool2D((3, 3), strides=(2, 2), padding=\"same\"))\n",
        "model.add(BatchNormalization())\n",
        "\n",
        "model.add(Conv2D(32, (2, 2), activation = \"relu\"))\n",
        "model.add(MaxPool2D((2, 2), strides=(2, 2), padding=\"same\"))\n",
        "model.add(BatchNormalization())\n",
        "\n",
        "model.add(Conv2D(16, (1, 1), activation = \"relu\"))\n",
        "model.add(MaxPool2D((1, 1), strides=(2, 2), padding=\"same\"))\n",
        "model.add(BatchNormalization())\n",
        "\n",
        "model.add(Flatten())\n",
        "model.add(Dense(64, activation=\"relu\"))\n",
        "model.add(Dropout(0.3))\n",
        "model.add(Dense(10, activation=\"softmax\"))\n",
        "\n",
        "model.summary()"
      ],
      "metadata": {
        "colab": {
          "base_uri": "https://localhost:8080/"
        },
        "id": "H282OfKm3iuC",
        "outputId": "79629b5f-b23a-4606-9939-5c6b51dcdd02"
      },
      "execution_count": 24,
      "outputs": [
        {
          "output_type": "stream",
          "name": "stdout",
          "text": [
            "Model: \"sequential_1\"\n",
            "_________________________________________________________________\n",
            " Layer (type)                Output Shape              Param #   \n",
            "=================================================================\n",
            " conv2d_4 (Conv2D)           (None, 128, 11, 64)       640       \n",
            "                                                                 \n",
            " max_pooling2d_4 (MaxPooling  (None, 64, 6, 64)        0         \n",
            " 2D)                                                             \n",
            "                                                                 \n",
            " batch_normalization_4 (Batc  (None, 64, 6, 64)        256       \n",
            " hNormalization)                                                 \n",
            "                                                                 \n",
            " conv2d_5 (Conv2D)           (None, 62, 4, 32)         18464     \n",
            "                                                                 \n",
            " max_pooling2d_5 (MaxPooling  (None, 31, 2, 32)        0         \n",
            " 2D)                                                             \n",
            "                                                                 \n",
            " batch_normalization_5 (Batc  (None, 31, 2, 32)        128       \n",
            " hNormalization)                                                 \n",
            "                                                                 \n",
            " conv2d_6 (Conv2D)           (None, 30, 1, 32)         4128      \n",
            "                                                                 \n",
            " max_pooling2d_6 (MaxPooling  (None, 15, 1, 32)        0         \n",
            " 2D)                                                             \n",
            "                                                                 \n",
            " batch_normalization_6 (Batc  (None, 15, 1, 32)        128       \n",
            " hNormalization)                                                 \n",
            "                                                                 \n",
            " conv2d_7 (Conv2D)           (None, 15, 1, 16)         528       \n",
            "                                                                 \n",
            " max_pooling2d_7 (MaxPooling  (None, 8, 1, 16)         0         \n",
            " 2D)                                                             \n",
            "                                                                 \n",
            " batch_normalization_7 (Batc  (None, 8, 1, 16)         64        \n",
            " hNormalization)                                                 \n",
            "                                                                 \n",
            " flatten_1 (Flatten)         (None, 128)               0         \n",
            "                                                                 \n",
            " dense_2 (Dense)             (None, 64)                8256      \n",
            "                                                                 \n",
            " dropout_1 (Dropout)         (None, 64)                0         \n",
            "                                                                 \n",
            " dense_3 (Dense)             (None, 10)                650       \n",
            "                                                                 \n",
            "=================================================================\n",
            "Total params: 33,242\n",
            "Trainable params: 32,954\n",
            "Non-trainable params: 288\n",
            "_________________________________________________________________\n"
          ]
        }
      ]
    },
    {
      "cell_type": "code",
      "source": [
        "adam = optimizers.Adam(lr=1e-4)\n",
        "model.compile(optimizer=adam,\n",
        "              loss=\"sparse_categorical_crossentropy\",\n",
        "              metrics=[\"accuracy\"])"
      ],
      "metadata": {
        "colab": {
          "base_uri": "https://localhost:8080/"
        },
        "id": "8Qg2YBjI6wz2",
        "outputId": "4373030a-9f32-4b8f-c9d7-16a8a5accdb8"
      },
      "execution_count": 25,
      "outputs": [
        {
          "output_type": "stream",
          "name": "stderr",
          "text": [
            "WARNING:absl:`lr` is deprecated in Keras optimizer, please use `learning_rate` or use the legacy optimizer, e.g.,tf.keras.optimizers.legacy.Adam.\n"
          ]
        }
      ]
    },
    {
      "cell_type": "code",
      "source": [
        "hist = model.fit(X_train, y_train,\\\n",
        "                 epochs = 100 , batch_size = 200 , \\\n",
        "                    verbose = 1 , validation_split = 0.2)"
      ],
      "metadata": {
        "colab": {
          "base_uri": "https://localhost:8080/"
        },
        "id": "FBrKt_Hr4Yao",
        "outputId": "48c9e6e7-d364-475f-e090-3c4575dc0bd4"
      },
      "execution_count": 26,
      "outputs": [
        {
          "output_type": "stream",
          "name": "stdout",
          "text": [
            "Epoch 1/100\n",
            "32/32 [==============================] - 5s 47ms/step - loss: 2.1717 - accuracy: 0.2798 - val_loss: 3.1409 - val_accuracy: 0.1733\n",
            "Epoch 2/100\n",
            "32/32 [==============================] - 0s 14ms/step - loss: 1.6141 - accuracy: 0.4230 - val_loss: 2.6488 - val_accuracy: 0.2040\n",
            "Epoch 3/100\n",
            "32/32 [==============================] - 0s 15ms/step - loss: 1.3885 - accuracy: 0.4989 - val_loss: 2.3443 - val_accuracy: 0.2403\n",
            "Epoch 4/100\n",
            "32/32 [==============================] - 0s 13ms/step - loss: 1.2464 - accuracy: 0.5446 - val_loss: 2.0609 - val_accuracy: 0.3004\n",
            "Epoch 5/100\n",
            "32/32 [==============================] - 0s 13ms/step - loss: 1.1354 - accuracy: 0.5881 - val_loss: 1.6363 - val_accuracy: 0.4374\n",
            "Epoch 6/100\n",
            "32/32 [==============================] - 0s 14ms/step - loss: 1.0347 - accuracy: 0.6283 - val_loss: 1.5057 - val_accuracy: 0.4656\n",
            "Epoch 7/100\n",
            "32/32 [==============================] - 0s 14ms/step - loss: 0.9692 - accuracy: 0.6599 - val_loss: 1.3425 - val_accuracy: 0.5382\n",
            "Epoch 8/100\n",
            "32/32 [==============================] - 0s 13ms/step - loss: 0.9156 - accuracy: 0.6723 - val_loss: 1.2697 - val_accuracy: 0.5594\n",
            "Epoch 9/100\n",
            "32/32 [==============================] - 0s 14ms/step - loss: 0.8673 - accuracy: 0.6889 - val_loss: 1.0725 - val_accuracy: 0.6220\n",
            "Epoch 10/100\n",
            "32/32 [==============================] - 0s 15ms/step - loss: 0.8072 - accuracy: 0.7153 - val_loss: 0.9730 - val_accuracy: 0.6596\n",
            "Epoch 11/100\n",
            "32/32 [==============================] - 0s 15ms/step - loss: 0.7641 - accuracy: 0.7383 - val_loss: 0.8559 - val_accuracy: 0.6959\n",
            "Epoch 12/100\n",
            "32/32 [==============================] - 0s 15ms/step - loss: 0.7373 - accuracy: 0.7397 - val_loss: 0.9010 - val_accuracy: 0.6934\n",
            "Epoch 13/100\n",
            "32/32 [==============================] - 0s 14ms/step - loss: 0.7029 - accuracy: 0.7562 - val_loss: 0.8072 - val_accuracy: 0.7247\n",
            "Epoch 14/100\n",
            "32/32 [==============================] - 1s 16ms/step - loss: 0.6848 - accuracy: 0.7603 - val_loss: 0.9217 - val_accuracy: 0.6859\n",
            "Epoch 15/100\n",
            "32/32 [==============================] - 1s 16ms/step - loss: 0.6451 - accuracy: 0.7745 - val_loss: 0.7889 - val_accuracy: 0.7234\n",
            "Epoch 16/100\n",
            "32/32 [==============================] - 1s 16ms/step - loss: 0.6196 - accuracy: 0.7823 - val_loss: 0.7806 - val_accuracy: 0.7303\n",
            "Epoch 17/100\n",
            "32/32 [==============================] - 1s 17ms/step - loss: 0.5960 - accuracy: 0.7914 - val_loss: 0.8647 - val_accuracy: 0.7103\n",
            "Epoch 18/100\n",
            "32/32 [==============================] - 1s 16ms/step - loss: 0.5819 - accuracy: 0.8030 - val_loss: 0.8347 - val_accuracy: 0.7146\n",
            "Epoch 19/100\n",
            "32/32 [==============================] - 0s 14ms/step - loss: 0.5513 - accuracy: 0.8094 - val_loss: 0.8206 - val_accuracy: 0.7234\n",
            "Epoch 20/100\n",
            "32/32 [==============================] - 0s 14ms/step - loss: 0.5285 - accuracy: 0.8196 - val_loss: 0.9638 - val_accuracy: 0.6902\n",
            "Epoch 21/100\n",
            "32/32 [==============================] - 0s 14ms/step - loss: 0.5094 - accuracy: 0.8196 - val_loss: 0.8274 - val_accuracy: 0.7353\n",
            "Epoch 22/100\n",
            "32/32 [==============================] - 0s 14ms/step - loss: 0.5072 - accuracy: 0.8250 - val_loss: 0.8967 - val_accuracy: 0.7090\n",
            "Epoch 23/100\n",
            "32/32 [==============================] - 0s 14ms/step - loss: 0.4534 - accuracy: 0.8438 - val_loss: 0.7738 - val_accuracy: 0.7509\n",
            "Epoch 24/100\n",
            "32/32 [==============================] - 0s 14ms/step - loss: 0.4507 - accuracy: 0.8396 - val_loss: 0.8499 - val_accuracy: 0.7259\n",
            "Epoch 25/100\n",
            "32/32 [==============================] - 0s 14ms/step - loss: 0.4406 - accuracy: 0.8444 - val_loss: 0.7341 - val_accuracy: 0.7522\n",
            "Epoch 26/100\n",
            "32/32 [==============================] - 0s 15ms/step - loss: 0.4267 - accuracy: 0.8531 - val_loss: 0.7672 - val_accuracy: 0.7491\n",
            "Epoch 27/100\n",
            "32/32 [==============================] - 0s 13ms/step - loss: 0.4044 - accuracy: 0.8615 - val_loss: 0.7127 - val_accuracy: 0.7616\n",
            "Epoch 28/100\n",
            "32/32 [==============================] - 0s 13ms/step - loss: 0.3995 - accuracy: 0.8665 - val_loss: 0.7561 - val_accuracy: 0.7578\n",
            "Epoch 29/100\n",
            "32/32 [==============================] - 0s 14ms/step - loss: 0.3778 - accuracy: 0.8709 - val_loss: 0.8207 - val_accuracy: 0.7347\n",
            "Epoch 30/100\n",
            "32/32 [==============================] - 0s 14ms/step - loss: 0.3790 - accuracy: 0.8671 - val_loss: 0.7205 - val_accuracy: 0.7703\n",
            "Epoch 31/100\n",
            "32/32 [==============================] - 0s 14ms/step - loss: 0.3532 - accuracy: 0.8746 - val_loss: 0.8011 - val_accuracy: 0.7516\n",
            "Epoch 32/100\n",
            "32/32 [==============================] - 0s 13ms/step - loss: 0.3347 - accuracy: 0.8839 - val_loss: 0.7230 - val_accuracy: 0.7635\n",
            "Epoch 33/100\n",
            "32/32 [==============================] - 0s 14ms/step - loss: 0.3230 - accuracy: 0.8901 - val_loss: 1.0324 - val_accuracy: 0.7059\n",
            "Epoch 34/100\n",
            "32/32 [==============================] - 0s 14ms/step - loss: 0.3204 - accuracy: 0.8861 - val_loss: 0.7402 - val_accuracy: 0.7722\n",
            "Epoch 35/100\n",
            "32/32 [==============================] - 0s 13ms/step - loss: 0.3031 - accuracy: 0.9006 - val_loss: 0.7887 - val_accuracy: 0.7572\n",
            "Epoch 36/100\n",
            "32/32 [==============================] - 0s 13ms/step - loss: 0.2973 - accuracy: 0.8944 - val_loss: 0.8408 - val_accuracy: 0.7541\n",
            "Epoch 37/100\n",
            "32/32 [==============================] - 0s 14ms/step - loss: 0.2811 - accuracy: 0.9045 - val_loss: 0.7416 - val_accuracy: 0.7810\n",
            "Epoch 38/100\n",
            "32/32 [==============================] - 0s 13ms/step - loss: 0.2658 - accuracy: 0.9069 - val_loss: 0.7942 - val_accuracy: 0.7697\n",
            "Epoch 39/100\n",
            "32/32 [==============================] - 0s 14ms/step - loss: 0.2760 - accuracy: 0.9055 - val_loss: 0.7756 - val_accuracy: 0.7804\n",
            "Epoch 40/100\n",
            "32/32 [==============================] - 0s 14ms/step - loss: 0.2548 - accuracy: 0.9075 - val_loss: 0.9556 - val_accuracy: 0.7322\n",
            "Epoch 41/100\n",
            "32/32 [==============================] - 1s 16ms/step - loss: 0.2394 - accuracy: 0.9186 - val_loss: 0.9151 - val_accuracy: 0.7422\n",
            "Epoch 42/100\n",
            "32/32 [==============================] - 1s 16ms/step - loss: 0.2286 - accuracy: 0.9207 - val_loss: 0.8468 - val_accuracy: 0.7628\n",
            "Epoch 43/100\n",
            "32/32 [==============================] - 1s 16ms/step - loss: 0.2232 - accuracy: 0.9246 - val_loss: 0.9046 - val_accuracy: 0.7397\n",
            "Epoch 44/100\n",
            "32/32 [==============================] - 1s 17ms/step - loss: 0.2251 - accuracy: 0.9180 - val_loss: 0.8140 - val_accuracy: 0.7747\n",
            "Epoch 45/100\n",
            "32/32 [==============================] - 0s 15ms/step - loss: 0.2144 - accuracy: 0.9241 - val_loss: 0.8567 - val_accuracy: 0.7534\n",
            "Epoch 46/100\n",
            "32/32 [==============================] - 0s 15ms/step - loss: 0.2014 - accuracy: 0.9322 - val_loss: 0.8312 - val_accuracy: 0.7735\n",
            "Epoch 47/100\n",
            "32/32 [==============================] - 0s 14ms/step - loss: 0.2120 - accuracy: 0.9227 - val_loss: 0.9303 - val_accuracy: 0.7528\n",
            "Epoch 48/100\n",
            "32/32 [==============================] - 0s 14ms/step - loss: 0.2219 - accuracy: 0.9202 - val_loss: 0.9443 - val_accuracy: 0.7509\n",
            "Epoch 49/100\n",
            "32/32 [==============================] - 0s 13ms/step - loss: 0.2223 - accuracy: 0.9213 - val_loss: 0.9416 - val_accuracy: 0.7628\n",
            "Epoch 50/100\n",
            "32/32 [==============================] - 0s 13ms/step - loss: 0.2054 - accuracy: 0.9283 - val_loss: 0.7841 - val_accuracy: 0.7891\n",
            "Epoch 51/100\n",
            "32/32 [==============================] - 0s 14ms/step - loss: 0.1971 - accuracy: 0.9347 - val_loss: 0.9715 - val_accuracy: 0.7497\n",
            "Epoch 52/100\n",
            "32/32 [==============================] - 0s 14ms/step - loss: 0.1857 - accuracy: 0.9380 - val_loss: 0.8684 - val_accuracy: 0.7741\n",
            "Epoch 53/100\n",
            "32/32 [==============================] - 0s 13ms/step - loss: 0.1663 - accuracy: 0.9443 - val_loss: 0.8622 - val_accuracy: 0.7772\n",
            "Epoch 54/100\n",
            "32/32 [==============================] - 0s 14ms/step - loss: 0.1672 - accuracy: 0.9383 - val_loss: 1.0130 - val_accuracy: 0.7478\n",
            "Epoch 55/100\n",
            "32/32 [==============================] - 0s 15ms/step - loss: 0.1681 - accuracy: 0.9448 - val_loss: 0.8978 - val_accuracy: 0.7610\n",
            "Epoch 56/100\n",
            "32/32 [==============================] - 0s 14ms/step - loss: 0.1643 - accuracy: 0.9405 - val_loss: 0.9668 - val_accuracy: 0.7578\n",
            "Epoch 57/100\n",
            "32/32 [==============================] - 0s 14ms/step - loss: 0.1578 - accuracy: 0.9448 - val_loss: 0.8342 - val_accuracy: 0.7879\n",
            "Epoch 58/100\n",
            "32/32 [==============================] - 0s 14ms/step - loss: 0.1634 - accuracy: 0.9424 - val_loss: 0.9656 - val_accuracy: 0.7541\n",
            "Epoch 59/100\n",
            "32/32 [==============================] - 0s 14ms/step - loss: 0.1354 - accuracy: 0.9523 - val_loss: 0.8568 - val_accuracy: 0.7941\n",
            "Epoch 60/100\n",
            "32/32 [==============================] - 0s 14ms/step - loss: 0.1357 - accuracy: 0.9523 - val_loss: 0.9804 - val_accuracy: 0.7672\n",
            "Epoch 61/100\n",
            "32/32 [==============================] - 0s 14ms/step - loss: 0.1321 - accuracy: 0.9579 - val_loss: 0.9421 - val_accuracy: 0.7741\n",
            "Epoch 62/100\n",
            "32/32 [==============================] - 0s 14ms/step - loss: 0.1406 - accuracy: 0.9501 - val_loss: 0.9015 - val_accuracy: 0.7760\n",
            "Epoch 63/100\n",
            "32/32 [==============================] - 0s 15ms/step - loss: 0.1658 - accuracy: 0.9455 - val_loss: 1.0487 - val_accuracy: 0.7666\n",
            "Epoch 64/100\n",
            "32/32 [==============================] - 0s 14ms/step - loss: 0.1496 - accuracy: 0.9474 - val_loss: 1.2315 - val_accuracy: 0.7284\n",
            "Epoch 65/100\n",
            "32/32 [==============================] - 0s 14ms/step - loss: 0.1309 - accuracy: 0.9559 - val_loss: 0.8789 - val_accuracy: 0.8004\n",
            "Epoch 66/100\n",
            "32/32 [==============================] - 0s 14ms/step - loss: 0.1098 - accuracy: 0.9635 - val_loss: 0.9526 - val_accuracy: 0.7685\n",
            "Epoch 67/100\n",
            "32/32 [==============================] - 0s 15ms/step - loss: 0.1483 - accuracy: 0.9491 - val_loss: 0.9253 - val_accuracy: 0.7829\n",
            "Epoch 68/100\n",
            "32/32 [==============================] - 0s 16ms/step - loss: 0.1373 - accuracy: 0.9502 - val_loss: 1.0478 - val_accuracy: 0.7628\n",
            "Epoch 69/100\n",
            "32/32 [==============================] - 1s 17ms/step - loss: 0.1071 - accuracy: 0.9645 - val_loss: 1.0654 - val_accuracy: 0.7747\n",
            "Epoch 70/100\n",
            "32/32 [==============================] - 1s 16ms/step - loss: 0.1113 - accuracy: 0.9631 - val_loss: 1.0518 - val_accuracy: 0.7691\n",
            "Epoch 71/100\n",
            "32/32 [==============================] - 1s 17ms/step - loss: 0.1159 - accuracy: 0.9610 - val_loss: 1.0179 - val_accuracy: 0.7628\n",
            "Epoch 72/100\n",
            "32/32 [==============================] - 0s 14ms/step - loss: 0.1117 - accuracy: 0.9615 - val_loss: 1.1312 - val_accuracy: 0.7509\n",
            "Epoch 73/100\n",
            "32/32 [==============================] - 0s 14ms/step - loss: 0.1131 - accuracy: 0.9599 - val_loss: 1.1256 - val_accuracy: 0.7572\n",
            "Epoch 74/100\n",
            "32/32 [==============================] - 0s 14ms/step - loss: 0.1038 - accuracy: 0.9624 - val_loss: 1.0040 - val_accuracy: 0.7797\n",
            "Epoch 75/100\n",
            "32/32 [==============================] - 0s 14ms/step - loss: 0.1409 - accuracy: 0.9493 - val_loss: 1.3308 - val_accuracy: 0.7234\n",
            "Epoch 76/100\n",
            "32/32 [==============================] - 0s 14ms/step - loss: 0.1277 - accuracy: 0.9532 - val_loss: 1.3343 - val_accuracy: 0.7359\n",
            "Epoch 77/100\n",
            "32/32 [==============================] - 0s 15ms/step - loss: 0.1083 - accuracy: 0.9631 - val_loss: 1.0828 - val_accuracy: 0.7703\n",
            "Epoch 78/100\n",
            "32/32 [==============================] - 0s 14ms/step - loss: 0.0982 - accuracy: 0.9674 - val_loss: 1.0009 - val_accuracy: 0.7822\n",
            "Epoch 79/100\n",
            "32/32 [==============================] - 0s 15ms/step - loss: 0.0990 - accuracy: 0.9654 - val_loss: 1.1250 - val_accuracy: 0.7610\n",
            "Epoch 80/100\n",
            "32/32 [==============================] - 0s 15ms/step - loss: 0.1047 - accuracy: 0.9656 - val_loss: 1.1434 - val_accuracy: 0.7584\n",
            "Epoch 81/100\n",
            "32/32 [==============================] - 0s 15ms/step - loss: 0.1042 - accuracy: 0.9660 - val_loss: 1.0301 - val_accuracy: 0.7929\n",
            "Epoch 82/100\n",
            "32/32 [==============================] - 0s 15ms/step - loss: 0.0883 - accuracy: 0.9687 - val_loss: 1.2039 - val_accuracy: 0.7553\n",
            "Epoch 83/100\n",
            "32/32 [==============================] - 0s 15ms/step - loss: 0.1133 - accuracy: 0.9631 - val_loss: 1.2924 - val_accuracy: 0.7390\n",
            "Epoch 84/100\n",
            "32/32 [==============================] - 0s 15ms/step - loss: 0.1153 - accuracy: 0.9618 - val_loss: 1.1803 - val_accuracy: 0.7666\n",
            "Epoch 85/100\n",
            "32/32 [==============================] - 0s 14ms/step - loss: 0.0980 - accuracy: 0.9643 - val_loss: 1.1605 - val_accuracy: 0.7547\n",
            "Epoch 86/100\n",
            "32/32 [==============================] - 0s 13ms/step - loss: 0.1001 - accuracy: 0.9656 - val_loss: 1.1641 - val_accuracy: 0.7678\n",
            "Epoch 87/100\n",
            "32/32 [==============================] - 0s 15ms/step - loss: 0.0872 - accuracy: 0.9690 - val_loss: 1.0409 - val_accuracy: 0.7935\n",
            "Epoch 88/100\n",
            "32/32 [==============================] - 0s 14ms/step - loss: 0.0856 - accuracy: 0.9718 - val_loss: 1.0873 - val_accuracy: 0.7716\n",
            "Epoch 89/100\n",
            "32/32 [==============================] - 0s 14ms/step - loss: 0.0847 - accuracy: 0.9728 - val_loss: 1.2284 - val_accuracy: 0.7466\n",
            "Epoch 90/100\n",
            "32/32 [==============================] - 0s 15ms/step - loss: 0.0898 - accuracy: 0.9679 - val_loss: 1.1333 - val_accuracy: 0.7785\n",
            "Epoch 91/100\n",
            "32/32 [==============================] - 0s 14ms/step - loss: 0.0831 - accuracy: 0.9718 - val_loss: 1.1413 - val_accuracy: 0.7653\n",
            "Epoch 92/100\n",
            "32/32 [==============================] - 0s 14ms/step - loss: 0.0743 - accuracy: 0.9764 - val_loss: 1.0764 - val_accuracy: 0.7879\n",
            "Epoch 93/100\n",
            "32/32 [==============================] - 0s 16ms/step - loss: 0.0874 - accuracy: 0.9723 - val_loss: 1.1043 - val_accuracy: 0.7885\n",
            "Epoch 94/100\n",
            "32/32 [==============================] - 1s 16ms/step - loss: 0.0770 - accuracy: 0.9748 - val_loss: 1.1309 - val_accuracy: 0.7741\n",
            "Epoch 95/100\n",
            "32/32 [==============================] - 1s 18ms/step - loss: 0.0651 - accuracy: 0.9778 - val_loss: 1.1787 - val_accuracy: 0.7566\n",
            "Epoch 96/100\n",
            "32/32 [==============================] - 1s 17ms/step - loss: 0.0748 - accuracy: 0.9732 - val_loss: 1.3106 - val_accuracy: 0.7584\n",
            "Epoch 97/100\n",
            "32/32 [==============================] - 1s 18ms/step - loss: 0.0699 - accuracy: 0.9764 - val_loss: 1.2814 - val_accuracy: 0.7572\n",
            "Epoch 98/100\n",
            "32/32 [==============================] - 0s 14ms/step - loss: 0.0681 - accuracy: 0.9775 - val_loss: 1.0294 - val_accuracy: 0.7847\n",
            "Epoch 99/100\n",
            "32/32 [==============================] - 0s 14ms/step - loss: 0.0780 - accuracy: 0.9710 - val_loss: 1.3508 - val_accuracy: 0.7597\n",
            "Epoch 100/100\n",
            "32/32 [==============================] - 0s 14ms/step - loss: 0.0987 - accuracy: 0.9653 - val_loss: 1.3786 - val_accuracy: 0.7528\n"
          ]
        }
      ]
    },
    {
      "cell_type": "code",
      "source": [
        "test_error, test_accuracy = model.evaluate(X_test, y_test, verbose=1)\n",
        "print(f\"Test accuracy: {test_accuracy}\")"
      ],
      "metadata": {
        "id": "2egbzIA54tqG",
        "outputId": "30115713-b745-4ea1-d504-24ae31925cc6",
        "colab": {
          "base_uri": "https://localhost:8080/"
        }
      },
      "execution_count": 27,
      "outputs": [
        {
          "output_type": "stream",
          "name": "stdout",
          "text": [
            "63/63 [==============================] - 0s 3ms/step - loss: 1.3599 - accuracy: 0.7618\n",
            "Test accuracy: 0.7617617845535278\n"
          ]
        }
      ]
    }
  ]
}